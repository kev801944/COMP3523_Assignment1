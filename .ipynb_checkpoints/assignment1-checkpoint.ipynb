{
 "cells": [
  {
   "cell_type": "code",
   "execution_count": 52,
   "id": "9b536d42-fa83-4cf4-9d7c-7ddd4743926a",
   "metadata": {},
   "outputs": [],
   "source": [
    "import pandas as pd # Importing pandas library"
   ]
  },
  {
   "cell_type": "code",
   "execution_count": 53,
   "id": "92c4902f-2909-4812-8b30-a980f8b4e589",
   "metadata": {},
   "outputs": [],
   "source": [
    "df = pd.read_excel(\"Assignmnet1_OnlineRetail.xlsx\") # Loading the Excel dataset, using the read_excel function instead of read_csv"
   ]
  },
  {
   "cell_type": "code",
   "execution_count": 58,
   "id": "f15c0a5f-5b5d-441e-aeb9-7c0c3f9c6fc0",
   "metadata": {},
   "outputs": [
    {
     "data": {
      "text/html": [
       "<div>\n",
       "<style scoped>\n",
       "    .dataframe tbody tr th:only-of-type {\n",
       "        vertical-align: middle;\n",
       "    }\n",
       "\n",
       "    .dataframe tbody tr th {\n",
       "        vertical-align: top;\n",
       "    }\n",
       "\n",
       "    .dataframe thead th {\n",
       "        text-align: right;\n",
       "    }\n",
       "</style>\n",
       "<table border=\"1\" class=\"dataframe\">\n",
       "  <thead>\n",
       "    <tr style=\"text-align: right;\">\n",
       "      <th></th>\n",
       "      <th>InvoiceNo</th>\n",
       "      <th>StockCode</th>\n",
       "      <th>Description</th>\n",
       "      <th>Quantity</th>\n",
       "      <th>InvoiceDate</th>\n",
       "      <th>UnitPrice</th>\n",
       "      <th>CustomerID</th>\n",
       "      <th>Country</th>\n",
       "      <th>MixedData</th>\n",
       "    </tr>\n",
       "  </thead>\n",
       "  <tbody>\n",
       "    <tr>\n",
       "      <th>542704</th>\n",
       "      <td>577331</td>\n",
       "      <td>22371</td>\n",
       "      <td>airline bag vintage tokyo 78</td>\n",
       "      <td>1</td>\n",
       "      <td>2011-11-18 14:23:00</td>\n",
       "      <td>4.25</td>\n",
       "      <td>14667.0</td>\n",
       "      <td>U.K.</td>\n",
       "      <td>NaN</td>\n",
       "    </tr>\n",
       "    <tr>\n",
       "      <th>542705</th>\n",
       "      <td>569721</td>\n",
       "      <td>47590A</td>\n",
       "      <td>BLUE HAPPY BIRTHDAY BUNTING</td>\n",
       "      <td>3</td>\n",
       "      <td>2011-10-06 09:28:00</td>\n",
       "      <td>5.45</td>\n",
       "      <td>12628.0</td>\n",
       "      <td>Germany</td>\n",
       "      <td>CVTYD</td>\n",
       "    </tr>\n",
       "    <tr>\n",
       "      <th>542706</th>\n",
       "      <td>537131</td>\n",
       "      <td>22429</td>\n",
       "      <td>enamel measuring jug cream</td>\n",
       "      <td>1</td>\n",
       "      <td>2010-12-05 12:26:00</td>\n",
       "      <td>4.25</td>\n",
       "      <td>15716.0</td>\n",
       "      <td>U.K.</td>\n",
       "      <td>93.788574</td>\n",
       "    </tr>\n",
       "    <tr>\n",
       "      <th>542707</th>\n",
       "      <td>576695</td>\n",
       "      <td>15034</td>\n",
       "      <td>PAPER POCKET TRAVELING FAN</td>\n",
       "      <td>1</td>\n",
       "      <td>2011-11-16 12:25:00</td>\n",
       "      <td>0.14</td>\n",
       "      <td>16469.0</td>\n",
       "      <td>U.K.</td>\n",
       "      <td>31</td>\n",
       "    </tr>\n",
       "    <tr>\n",
       "      <th>542708</th>\n",
       "      <td>576112</td>\n",
       "      <td>23184</td>\n",
       "      <td>bull dog bottle opener</td>\n",
       "      <td>4</td>\n",
       "      <td>2011-11-14 10:34:00</td>\n",
       "      <td>4.95</td>\n",
       "      <td>14902.0</td>\n",
       "      <td>U.K.</td>\n",
       "      <td>CIGKN</td>\n",
       "    </tr>\n",
       "  </tbody>\n",
       "</table>\n",
       "</div>"
      ],
      "text/plain": [
       "       InvoiceNo StockCode                       Description  Quantity  \\\n",
       "542704    577331     22371      airline bag vintage tokyo 78         1   \n",
       "542705    569721    47590A       BLUE HAPPY BIRTHDAY BUNTING         3   \n",
       "542706    537131     22429        enamel measuring jug cream         1   \n",
       "542707    576695     15034       PAPER POCKET TRAVELING FAN          1   \n",
       "542708    576112     23184            bull dog bottle opener         4   \n",
       "\n",
       "               InvoiceDate  UnitPrice  CustomerID  Country  MixedData  \n",
       "542704 2011-11-18 14:23:00       4.25     14667.0     U.K.        NaN  \n",
       "542705 2011-10-06 09:28:00       5.45     12628.0  Germany      CVTYD  \n",
       "542706 2010-12-05 12:26:00       4.25     15716.0     U.K.  93.788574  \n",
       "542707 2011-11-16 12:25:00       0.14     16469.0     U.K.         31  \n",
       "542708 2011-11-14 10:34:00       4.95     14902.0     U.K.      CIGKN  "
      ]
     },
     "execution_count": 58,
     "metadata": {},
     "output_type": "execute_result"
    }
   ],
   "source": [
    "df.tail() # Check the last 5 entries of the dataframe for visualization"
   ]
  },
  {
   "cell_type": "code",
   "execution_count": 54,
   "id": "9dc064d4-2191-42e2-8737-3c2c1955a6ec",
   "metadata": {},
   "outputs": [
    {
     "name": "stdout",
     "output_type": "stream",
     "text": [
      "<class 'pandas.core.frame.DataFrame'>\n",
      "RangeIndex: 542709 entries, 0 to 542708\n",
      "Data columns (total 9 columns):\n",
      " #   Column       Non-Null Count   Dtype         \n",
      "---  ------       --------------   -----         \n",
      " 0   InvoiceNo    542709 non-null  object        \n",
      " 1   StockCode    542709 non-null  object        \n",
      " 2   Description  541182 non-null  object        \n",
      " 3   Quantity     542709 non-null  int64         \n",
      " 4   InvoiceDate  542709 non-null  datetime64[ns]\n",
      " 5   UnitPrice    488440 non-null  float64       \n",
      " 6   CustomerID   402422 non-null  float64       \n",
      " 7   Country      542709 non-null  object        \n",
      " 8   MixedData    406899 non-null  object        \n",
      "dtypes: datetime64[ns](1), float64(2), int64(1), object(5)\n",
      "memory usage: 37.3+ MB\n"
     ]
    }
   ],
   "source": [
    "df.info() # Check basic information regarding the dataset"
   ]
  },
  {
   "cell_type": "code",
   "execution_count": 55,
   "id": "bc876ffc-04f1-45bc-ae3f-f441aea50fa2",
   "metadata": {},
   "outputs": [
    {
     "data": {
      "text/html": [
       "<div>\n",
       "<style scoped>\n",
       "    .dataframe tbody tr th:only-of-type {\n",
       "        vertical-align: middle;\n",
       "    }\n",
       "\n",
       "    .dataframe tbody tr th {\n",
       "        vertical-align: top;\n",
       "    }\n",
       "\n",
       "    .dataframe thead th {\n",
       "        text-align: right;\n",
       "    }\n",
       "</style>\n",
       "<table border=\"1\" class=\"dataframe\">\n",
       "  <thead>\n",
       "    <tr style=\"text-align: right;\">\n",
       "      <th></th>\n",
       "      <th>Quantity</th>\n",
       "      <th>InvoiceDate</th>\n",
       "      <th>UnitPrice</th>\n",
       "      <th>CustomerID</th>\n",
       "    </tr>\n",
       "  </thead>\n",
       "  <tbody>\n",
       "    <tr>\n",
       "      <th>count</th>\n",
       "      <td>542709.000000</td>\n",
       "      <td>542709</td>\n",
       "      <td>488440.000000</td>\n",
       "      <td>402422.000000</td>\n",
       "    </tr>\n",
       "    <tr>\n",
       "      <th>mean</th>\n",
       "      <td>8.766753</td>\n",
       "      <td>2011-07-04 07:50:48.211141376</td>\n",
       "      <td>4.590367</td>\n",
       "      <td>15388.103431</td>\n",
       "    </tr>\n",
       "    <tr>\n",
       "      <th>min</th>\n",
       "      <td>-82344.000000</td>\n",
       "      <td>2010-12-01 08:26:00</td>\n",
       "      <td>-11062.060000</td>\n",
       "      <td>12346.000000</td>\n",
       "    </tr>\n",
       "    <tr>\n",
       "      <th>25%</th>\n",
       "      <td>1.000000</td>\n",
       "      <td>2011-03-27 12:54:00</td>\n",
       "      <td>1.250000</td>\n",
       "      <td>14056.000000</td>\n",
       "    </tr>\n",
       "    <tr>\n",
       "      <th>50%</th>\n",
       "      <td>3.000000</td>\n",
       "      <td>2011-07-19 13:57:00</td>\n",
       "      <td>2.080000</td>\n",
       "      <td>15349.000000</td>\n",
       "    </tr>\n",
       "    <tr>\n",
       "      <th>75%</th>\n",
       "      <td>10.000000</td>\n",
       "      <td>2011-10-19 15:29:00</td>\n",
       "      <td>4.130000</td>\n",
       "      <td>16889.000000</td>\n",
       "    </tr>\n",
       "    <tr>\n",
       "      <th>max</th>\n",
       "      <td>79440.000000</td>\n",
       "      <td>2011-12-09 12:50:00</td>\n",
       "      <td>38970.000000</td>\n",
       "      <td>18287.000000</td>\n",
       "    </tr>\n",
       "    <tr>\n",
       "      <th>std</th>\n",
       "      <td>218.363536</td>\n",
       "      <td>NaN</td>\n",
       "      <td>103.446731</td>\n",
       "      <td>1687.000549</td>\n",
       "    </tr>\n",
       "  </tbody>\n",
       "</table>\n",
       "</div>"
      ],
      "text/plain": [
       "            Quantity                    InvoiceDate      UnitPrice  \\\n",
       "count  542709.000000                         542709  488440.000000   \n",
       "mean        8.766753  2011-07-04 07:50:48.211141376       4.590367   \n",
       "min    -82344.000000            2010-12-01 08:26:00  -11062.060000   \n",
       "25%         1.000000            2011-03-27 12:54:00       1.250000   \n",
       "50%         3.000000            2011-07-19 13:57:00       2.080000   \n",
       "75%        10.000000            2011-10-19 15:29:00       4.130000   \n",
       "max     79440.000000            2011-12-09 12:50:00   38970.000000   \n",
       "std       218.363536                            NaN     103.446731   \n",
       "\n",
       "          CustomerID  \n",
       "count  402422.000000  \n",
       "mean    15388.103431  \n",
       "min     12346.000000  \n",
       "25%     14056.000000  \n",
       "50%     15349.000000  \n",
       "75%     16889.000000  \n",
       "max     18287.000000  \n",
       "std      1687.000549  "
      ]
     },
     "execution_count": 55,
     "metadata": {},
     "output_type": "execute_result"
    }
   ],
   "source": [
    "df.describe() # View basic statics of the dataset"
   ]
  },
  {
   "cell_type": "code",
   "execution_count": 56,
   "id": "6ed6e697-6a73-496b-b29c-5abacda760a0",
   "metadata": {},
   "outputs": [
    {
     "data": {
      "text/plain": [
       "InvoiceNo           0\n",
       "StockCode           0\n",
       "Description      1527\n",
       "Quantity            0\n",
       "InvoiceDate         0\n",
       "UnitPrice       54269\n",
       "CustomerID     140287\n",
       "Country             0\n",
       "MixedData      135810\n",
       "dtype: int64"
      ]
     },
     "execution_count": 56,
     "metadata": {},
     "output_type": "execute_result"
    }
   ],
   "source": [
    "df.isnull().sum() # Check for missing values in the dataset"
   ]
  },
  {
   "cell_type": "code",
   "execution_count": 61,
   "id": "612aec35-a775-4ff4-a5b0-758ced258093",
   "metadata": {},
   "outputs": [],
   "source": [
    "df.dropna(subset=['Description'], inplace=True) # Drop rows where description is missing"
   ]
  },
  {
   "cell_type": "code",
   "execution_count": 62,
   "id": "65c1eeaf-8339-4390-a1d3-36052a9085e0",
   "metadata": {},
   "outputs": [
    {
     "data": {
      "text/plain": [
       "InvoiceNo           0\n",
       "StockCode           0\n",
       "Description         0\n",
       "Quantity            0\n",
       "InvoiceDate         0\n",
       "UnitPrice       54127\n",
       "CustomerID     138760\n",
       "Country             0\n",
       "MixedData      135449\n",
       "dtype: int64"
      ]
     },
     "execution_count": 62,
     "metadata": {},
     "output_type": "execute_result"
    }
   ],
   "source": [
    "df.isnull().sum() # Verify change"
   ]
  },
  {
   "cell_type": "code",
   "execution_count": 64,
   "id": "494928f6-9603-42bc-b7a9-7b86db37d1fb",
   "metadata": {},
   "outputs": [],
   "source": [
    "df['UnitPrice'] = df['UnitPrice'].fillna(df['UnitPrice'].mean()) # Filling in missing UnitPrice row with the mean UnitPrice"
   ]
  },
  {
   "cell_type": "code",
   "execution_count": 65,
   "id": "01fada89-b936-4aa4-aa14-208c1a6d731e",
   "metadata": {},
   "outputs": [
    {
     "data": {
      "text/plain": [
       "InvoiceNo           0\n",
       "StockCode           0\n",
       "Description         0\n",
       "Quantity            0\n",
       "InvoiceDate         0\n",
       "UnitPrice           0\n",
       "CustomerID     138760\n",
       "Country             0\n",
       "MixedData      135449\n",
       "dtype: int64"
      ]
     },
     "execution_count": 65,
     "metadata": {},
     "output_type": "execute_result"
    }
   ],
   "source": [
    "df.isnull().sum() # Verify change"
   ]
  },
  {
   "cell_type": "code",
   "execution_count": 66,
   "id": "96a593de-e79b-47f4-bb2e-1763515329dc",
   "metadata": {},
   "outputs": [],
   "source": [
    "df['CustomerID'] = df['CustomerID'].fillna('No customer ID') # Filling in missing CustomerID with 'no customer ID'\n",
    "df['MixedData'] = df['MixedData'].fillna('Unknown') # Filling in missing MixedData with 'Unknown'"
   ]
  },
  {
   "cell_type": "code",
   "execution_count": 67,
   "id": "5ec5b96b-93c2-45a4-b284-c72501e2bc26",
   "metadata": {},
   "outputs": [
    {
     "data": {
      "text/plain": [
       "InvoiceNo      0\n",
       "StockCode      0\n",
       "Description    0\n",
       "Quantity       0\n",
       "InvoiceDate    0\n",
       "UnitPrice      0\n",
       "CustomerID     0\n",
       "Country        0\n",
       "MixedData      0\n",
       "dtype: int64"
      ]
     },
     "execution_count": 67,
     "metadata": {},
     "output_type": "execute_result"
    }
   ],
   "source": [
    "df.isnull().sum() # Verify change"
   ]
  },
  {
   "cell_type": "code",
   "execution_count": 69,
   "id": "ecbaa732-9b8b-4753-ace1-7ff94cc5f383",
   "metadata": {},
   "outputs": [
    {
     "data": {
      "text/plain": [
       "151"
      ]
     },
     "execution_count": 69,
     "metadata": {},
     "output_type": "execute_result"
    }
   ],
   "source": [
    "df.duplicated().sum() # Checking the number of duplicated entries in the dataframe"
   ]
  },
  {
   "cell_type": "code",
   "execution_count": 70,
   "id": "d901f7f8-2530-4f06-810b-29183af59a75",
   "metadata": {},
   "outputs": [],
   "source": [
    "df.drop_duplicates(inplace=True)"
   ]
  },
  {
   "cell_type": "code",
   "execution_count": 71,
   "id": "6bfb9a2e-26ef-43b2-99cc-7bcdbf23a87b",
   "metadata": {},
   "outputs": [
    {
     "data": {
      "text/plain": [
       "0"
      ]
     },
     "execution_count": 71,
     "metadata": {},
     "output_type": "execute_result"
    }
   ],
   "source": [
    "df.duplicated().sum() # Verifying change"
   ]
  },
  {
   "cell_type": "code",
   "execution_count": 72,
   "id": "f2fdaac3-aadd-46ce-9af0-b822dd6a2e97",
   "metadata": {},
   "outputs": [
    {
     "data": {
      "text/plain": [
       "array(['United Kingdom', 'UK', 'Unted Kingdom', 'U.K.', 'France',\n",
       "       'Frnace', 'GER', 'DE', 'Germany', 'Geramny', 'Spain', 'Italy'],\n",
       "      dtype=object)"
      ]
     },
     "execution_count": 72,
     "metadata": {},
     "output_type": "execute_result"
    }
   ],
   "source": [
    "df['Country'].unique() # Checking the unique values of the Country column"
   ]
  },
  {
   "cell_type": "code",
   "execution_count": 75,
   "id": "a3b34be6-59fd-4c78-b599-e65777d93096",
   "metadata": {},
   "outputs": [],
   "source": [
    "# Replacing each United Kingdom entry to its alpha-3 code\n",
    "df['Country'] = df['Country'].replace('United Kingdom', 'GBR') \n",
    "df['Country'] = df['Country'].replace('Unted Kingdom', 'GBR') \n",
    "df['Country'] = df['Country'].replace('UK', 'GBR')\n",
    "df['Country'] = df['Country'].replace('U.K.', 'GBR')"
   ]
  },
  {
   "cell_type": "code",
   "execution_count": 76,
   "id": "b232e3bb-c303-4936-879f-7eb91dc22c70",
   "metadata": {},
   "outputs": [
    {
     "data": {
      "text/plain": [
       "array(['GBR', 'France', 'Frnace', 'GER', 'DE', 'Germany', 'Geramny',\n",
       "       'Spain', 'Italy'], dtype=object)"
      ]
     },
     "execution_count": 76,
     "metadata": {},
     "output_type": "execute_result"
    }
   ],
   "source": [
    "# Replacing each France entry to its alpha-3 code\n",
    "df['Country'] = df['Country'].replace('France', 'FRA') \n",
    "df['Country'] = df['Country'].replace('Frnace', 'FRA') "
   ]
  },
  {
   "cell_type": "code",
   "execution_count": null,
   "id": "d56be696-07bf-46f5-b919-6b95bd1ae250",
   "metadata": {},
   "outputs": [],
   "source": [
    "# Replacing each Germany entry to its alpha-3 code\n",
    "df['Country'] = df['Country'].replace('Germany', 'DEU') \n",
    "df['Country'] = df['Country'].replace('Geramny', 'DEU') \n",
    "df['Country'] = df['Country'].replace('DE', 'DEU')\n",
    "df['Country'] = df['Country'].replace('GER', 'DEU')"
   ]
  },
  {
   "cell_type": "code",
   "execution_count": null,
   "id": "4a5b3ab0-d6f3-4cb3-93c8-a68faf6d31a6",
   "metadata": {},
   "outputs": [],
   "source": [
    "# Replacing each Spain entry to its alpha-3 code\n",
    "df['Country'] = df['Country'].replace('Spain', 'ESP') "
   ]
  },
  {
   "cell_type": "code",
   "execution_count": null,
   "id": "ba37d971-1e48-4972-abe5-7d441d87d3a6",
   "metadata": {},
   "outputs": [],
   "source": [
    "# Replacing each Italy entry to its alpha-3 code\n",
    "df['Country'] = df['Country'].replace('Italy', 'ITA') "
   ]
  },
  {
   "cell_type": "code",
   "execution_count": null,
   "id": "ef8f99dd-df57-484b-8571-e8c84044fe4e",
   "metadata": {},
   "outputs": [],
   "source": [
    "df['Country'].unique() # Verifying change"
   ]
  }
 ],
 "metadata": {
  "kernelspec": {
   "display_name": "Python 3 (ipykernel)",
   "language": "python",
   "name": "python3"
  },
  "language_info": {
   "codemirror_mode": {
    "name": "ipython",
    "version": 3
   },
   "file_extension": ".py",
   "mimetype": "text/x-python",
   "name": "python",
   "nbconvert_exporter": "python",
   "pygments_lexer": "ipython3",
   "version": "3.12.3"
  }
 },
 "nbformat": 4,
 "nbformat_minor": 5
}
